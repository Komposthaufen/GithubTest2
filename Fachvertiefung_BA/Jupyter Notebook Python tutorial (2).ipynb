{
 "cells": [
  {
   "cell_type": "markdown",
   "metadata": {},
   "source": [
    "# Python  -  Tutorial \n",
    "\n",
    "Dieses Jupyter Notebook-Skript dient zur Demonstration von grundlegenden Python-Funktionalitäten, die zur Vervollständigung der Protokoll-Abgaben im Rahmen der LVA  370.007 Fachvertiefung Energiesysteme benötigt werden. (erstellt am 13.03.2023)"
   ]
  },
  {
   "cell_type": "markdown",
   "metadata": {},
   "source": [
    "## (A) Grundlagen"
   ]
  },
  {
   "cell_type": "code",
   "execution_count": null,
   "metadata": {},
   "outputs": [],
   "source": [
    "# Das ist ein Kommentar"
   ]
  },
  {
   "cell_type": "markdown",
   "metadata": {},
   "source": [
    "### A.1 Variablendefinition"
   ]
  },
  {
   "cell_type": "code",
   "execution_count": null,
   "metadata": {},
   "outputs": [],
   "source": [
    "variable_1 = 3\n",
    "variable_2 = 24\n",
    "\n",
    "x1 = 400000\n",
    "x2 = 4e5\n",
    "Name = 'Hello World!' # Definition String\n",
    "\n",
    "# Überschreibung von Variablen\n",
    "variable_1 = variable_2\n",
    "\n",
    "# Ausgabe einer Variable\n",
    "print(\"Wert von Variable 1:\",variable_1)\n",
    "print(\"\\n\")\n",
    "print(Name)"
   ]
  },
  {
   "cell_type": "markdown",
   "metadata": {},
   "source": [
    "### A.2 Datentypen"
   ]
  },
  {
   "cell_type": "code",
   "execution_count": null,
   "metadata": {},
   "outputs": [],
   "source": [
    "# Einlesen eines 'Packages'\n",
    "import numpy as np\n",
    "import random"
   ]
  },
  {
   "cell_type": "code",
   "execution_count": null,
   "metadata": {},
   "outputs": [],
   "source": [
    "# str - String\n",
    "a = 'Das ist ein String'\n",
    "\n",
    "# int - Integer\n",
    "b = 1\n",
    "\n",
    "# float\n",
    "c = 1.0\n",
    "\n",
    "# tuple\n",
    "d = (a, b)\n",
    "\n",
    "# list \n",
    "e = [a, b , c]\n",
    "\n",
    "\n",
    "# range\n",
    "f = range(0, 10)\n",
    "g = np.arange(0, 10)\n",
    "h = np.linspace(0, 10, 11) # 11 Werte in gleichen Abständen zwischen 0 und 10 generieren\n",
    "\n",
    "\n",
    "print(\"Touple:\", d)\n",
    "print(\"Liste:\", e)\n",
    "print(\"\\n\")\n",
    "print(\"Range:0-10 \\n\", f, \"\\n\", g, \"\\n\", h)"
   ]
  },
  {
   "cell_type": "code",
   "execution_count": null,
   "metadata": {},
   "outputs": [],
   "source": [
    "# bool - Boolean\n",
    "j_1 = False\n",
    "j_2 = True\n",
    "\n",
    "# dict - Dictionary \n",
    "k = {'name': 'Max', 'height': 1.76, 'age': 56}\n",
    "print('Height of Max:', k['height'])"
   ]
  },
  {
   "cell_type": "markdown",
   "metadata": {},
   "source": [
    "### A.3 Matrizen und Vektoren"
   ]
  },
  {
   "cell_type": "code",
   "execution_count": null,
   "metadata": {},
   "outputs": [],
   "source": [
    "# Definition über liste\n",
    "l = [2.9, 2.3, 3.6]\n",
    "vec = np.array(l)\n",
    "print(vec)\n",
    "print(\"Dimensionen:\", np.shape(l))\n",
    "print(\"Länge der Liste:\", len(l))"
   ]
  },
  {
   "cell_type": "code",
   "execution_count": null,
   "metadata": {},
   "outputs": [],
   "source": [
    "# Mehrdimensionale Matrix\n",
    "l = [[2.9], [2.3], [3.6]]  # Liste von Listen\n",
    "vec = np.array(l)\n",
    "print(vec)\n",
    "print(\"Dimensionen:\", np.shape(l))"
   ]
  },
  {
   "cell_type": "code",
   "execution_count": null,
   "metadata": {},
   "outputs": [],
   "source": [
    "l = [[1, 3, 4], [5, 9, 11], [13, 15, 19]]  # Liste von Listen\n",
    "vec = np.array(l)\n",
    "print(vec)\n",
    "print(\"Dimensionen:\", np.shape(l))"
   ]
  },
  {
   "cell_type": "code",
   "execution_count": null,
   "metadata": {},
   "outputs": [],
   "source": [
    "# Indexieren einer Matrix\n",
    "print(vec[2,1])  # Auslesen eines einzelnen Elementes\n",
    "print(vec[2])    # Auslesen einer Zeile \n",
    "print(vec[0:2, 0:2]) # Auslesen eines Submatrix"
   ]
  },
  {
   "cell_type": "markdown",
   "metadata": {},
   "source": [
    "__Wichtig:__ In Python fängt man bei _0_ an zu zählen (nicht bei 1)!"
   ]
  },
  {
   "cell_type": "code",
   "execution_count": null,
   "metadata": {},
   "outputs": [],
   "source": [
    "# besondere Matrizen\n",
    "E = np.eye(3)\n",
    "print(\"Einheitsmatrix:\\n\", E)\n",
    "\n",
    "Z = np.zeros((3, 3))\n",
    "print(\"Nullmatrix:\\n\", Z)"
   ]
  },
  {
   "cell_type": "markdown",
   "metadata": {},
   "source": [
    "### A.4 Grundrechnungsarten und grundlegene Funktionen"
   ]
  },
  {
   "cell_type": "code",
   "execution_count": null,
   "metadata": {},
   "outputs": [],
   "source": [
    "v1 = 2.5\n",
    "Summe = v1 + v1\n",
    "Produkt = v1 * v1\n",
    "Sub = v1 - v1\n",
    "Div = v1 / v1\n",
    "Pot = v1 ** v1"
   ]
  },
  {
   "cell_type": "code",
   "execution_count": null,
   "metadata": {},
   "outputs": [],
   "source": [
    "mat = np.array([[1, 4], [5, 6]]);\n",
    "mat_t = np.transpose(mat)       # Transponierte Matrix\n",
    "mat_1 = mat * mat              # Klassische Matrixmultiplikation\n",
    "mat_3 = mat ** 2               # mat_1 = mat_3\n",
    "mat_4 = np.square(mat)         # Elementweises Potenzieren"
   ]
  },
  {
   "cell_type": "code",
   "execution_count": null,
   "metadata": {},
   "outputs": [],
   "source": [
    "zeilenvektor = np.random.rand(10)   # Erzeugung eines Vektors mit zufällig gewählten Elementen"
   ]
  },
  {
   "cell_type": "code",
   "execution_count": null,
   "metadata": {},
   "outputs": [],
   "source": [
    "print(zeilenvektor)\n",
    "print(\"Summe:\", sum(zeilenvektor))\n",
    "print(\"Kleinstes Element:\", min(zeilenvektor))\n",
    "print(\"Größtes Element:\", max(zeilenvektor))\n",
    "print(\"Index des kleinsten Elementes:\", np.argmin(zeilenvektor))\n",
    "print(\"Sortierter Vektor:\", np.sort(zeilenvektor))"
   ]
  },
  {
   "cell_type": "markdown",
   "metadata": {},
   "source": [
    "## (B) Definition von Funktionen\n",
    "Erstellung einer Funktion und korrekte Dokumentation"
   ]
  },
  {
   "cell_type": "code",
   "execution_count": null,
   "metadata": {},
   "outputs": [],
   "source": [
    "def sum_even_numbers(numbers):\n",
    "    \"\"\"\n",
    "    Sums all even numbers in a given list of integers.\n",
    "\n",
    "    Args:\n",
    "        numbers: A list of integers.\n",
    "\n",
    "    Returns:\n",
    "        The sum of all even numbers in the input list.\n",
    "    \"\"\"\n",
    "    return sum(x for x in numbers if x % 2 == 0)"
   ]
  },
  {
   "cell_type": "code",
   "execution_count": null,
   "metadata": {},
   "outputs": [],
   "source": [
    "# Anwendung der Funktion\n",
    "random_list = [random.randint(1, 10) for ij in range(10)]\n",
    "ergebnis = sum_even_numbers(random_list)\n",
    "print(\"Liste mit zufälligen Integer-Werten:\", random_list)\n",
    "print(\"Ergebnis der Funktion:\", ergebnis)"
   ]
  },
  {
   "cell_type": "code",
   "execution_count": null,
   "metadata": {},
   "outputs": [],
   "source": [
    "def spring_force(k: float, x: float) -> float:\n",
    "    \"\"\"\n",
    "    Calculates the force exerted by a spring, given its spring constant and displacement from equilibrium.\n",
    "\n",
    "    Args:\n",
    "        k: A float representing the spring constant in Newtons per meter (N/m).\n",
    "        x: A float representing the displacement of the spring from its equilibrium position in meters (m).\n",
    "\n",
    "    Returns:\n",
    "        A float representing the force exerted by the spring in Newtons (N).\n",
    "    \"\"\"\n",
    "    return k * x"
   ]
  },
  {
   "cell_type": "code",
   "execution_count": null,
   "metadata": {},
   "outputs": [],
   "source": [
    "# Elementweise Anwendung an Matrix\n",
    "\n",
    "# Federkonstante\n",
    "k = 10.0\n",
    "\n",
    "# Verschiebungsmatrix\n",
    "x = np.array([0.1, 0.2, 0.3, 0.4])\n",
    "\n",
    "# Vektorisierung der Funktion\n",
    "vectorized_spring_force = np.vectorize(spring_force, otypes=[np.float])\n",
    "\n",
    "# Anwendung\n",
    "force = vectorized_spring_force(k, x)\n",
    "\n",
    "print(force)"
   ]
  },
  {
   "cell_type": "markdown",
   "metadata": {},
   "source": [
    "## (C) Daten Einlesen"
   ]
  },
  {
   "cell_type": "code",
   "execution_count": null,
   "metadata": {},
   "outputs": [],
   "source": [
    "import pandas as pd # Package, dass Tabellenformat erlaubt"
   ]
  },
  {
   "cell_type": "code",
   "execution_count": null,
   "metadata": {},
   "outputs": [],
   "source": [
    "elec_prices = pd.read_excel(\"EXAA_2010.xlsx\")\n",
    "print(elec_prices.head())\n",
    "print(\"Bezeichnungen der Spalten:\", elec_prices.keys())\n",
    "print(\"Anzahl Zeilen:\", len(elec_prices))"
   ]
  },
  {
   "cell_type": "markdown",
   "metadata": {},
   "source": [
    "Im nächsten Schritt erstellen wir für jeden Eintrag einen Zeitstempel."
   ]
  },
  {
   "cell_type": "code",
   "execution_count": null,
   "metadata": {},
   "outputs": [],
   "source": [
    "# Erstellung einer passenden Zeitreihe\n",
    "time_series = pd.date_range(start='2010-01-01 00:00:00', end='2010-12-31 23:59:59', freq='1H') \n",
    "print(time_series)"
   ]
  },
  {
   "cell_type": "code",
   "execution_count": null,
   "metadata": {},
   "outputs": [],
   "source": [
    "# Zeitstempel in Tabelle einfügen\n",
    "elec_prices_with_timesteps = elec_prices.assign(timesteps=time_series)\n",
    "print(elec_prices_with_timesteps.head())"
   ]
  },
  {
   "cell_type": "code",
   "execution_count": null,
   "metadata": {},
   "outputs": [],
   "source": [
    "# Zeitstempel zum Index der Tabelle machen\n",
    "elec_prices_with_timesteps.set_index('timesteps', inplace=True)\n",
    "print(elec_prices_with_timesteps)"
   ]
  },
  {
   "cell_type": "code",
   "execution_count": null,
   "metadata": {},
   "outputs": [],
   "source": [
    "# Speichern des neuen Datensatzes\n",
    "elec_prices_with_timesteps.to_excel(\"EXAA_2010_new.xlsx\")"
   ]
  },
  {
   "cell_type": "markdown",
   "metadata": {},
   "source": [
    "## (D) Datenvisualisierung\n",
    "\n",
    "### D.1 Visualisierung einer Zeitreihe"
   ]
  },
  {
   "cell_type": "code",
   "execution_count": null,
   "metadata": {},
   "outputs": [],
   "source": [
    "import matplotlib.pyplot as plt   # Package für Visualisierungen"
   ]
  },
  {
   "cell_type": "code",
   "execution_count": null,
   "metadata": {},
   "outputs": [],
   "source": [
    "# Extrahieren eines Zeitraumes und Visualierung (Beispiel hier: März)\n",
    "start_time = pd.Timestamp('2010-03-01 00:00:00')\n",
    "end_time = pd.Timestamp('2010-03-31 23:59:59')\n",
    "subset = elec_prices_with_timesteps.loc[(elec_prices_with_timesteps.index >= start_time) & (elec_prices_with_timesteps.index <= end_time)]"
   ]
  },
  {
   "cell_type": "code",
   "execution_count": null,
   "metadata": {},
   "outputs": [],
   "source": [
    "subset.plot(color=\"darkblue\", linewidth=2) \n",
    "# Hinzufügen von Titel + Achsenbeschriftung\n",
    "plt.title('Subset of DataFrame')       \n",
    "plt.xlabel('Time')\n",
    "plt.ylabel('Value')\n",
    "plt.show()"
   ]
  },
  {
   "cell_type": "markdown",
   "metadata": {},
   "source": [
    "### D.2 Basic 2D-Plot"
   ]
  },
  {
   "cell_type": "markdown",
   "metadata": {},
   "source": [
    "__Beispiel:__ Gegeben sind folgende zwei Funktionen, deren Werte in einem 2D-Plot zu darstelle sind:\n",
    "\n",
    "$$f(x) = sin(2x)$$\n",
    "\n",
    "$$g(x) = cos(2x)$$\n"
   ]
  },
  {
   "cell_type": "code",
   "execution_count": null,
   "metadata": {},
   "outputs": [],
   "source": [
    "def f(x):\n",
    "    \"\"\"\n",
    "    Args:\n",
    "        x: float value in the range between 0 and Pi\n",
    "\n",
    "    Returns:\n",
    "        float\n",
    "\n",
    "    \"\"\"\n",
    "    return np.sin(2*x)"
   ]
  },
  {
   "cell_type": "code",
   "execution_count": null,
   "metadata": {},
   "outputs": [],
   "source": [
    "def g(x):\n",
    "    \"\"\"\n",
    "    Args:\n",
    "        x: float value in the range between 0 and Pi\n",
    "\n",
    "    Returns:\n",
    "        float\n",
    "\n",
    "    \"\"\"\n",
    "    return np.cos(2*x)"
   ]
  },
  {
   "cell_type": "code",
   "execution_count": null,
   "metadata": {},
   "outputs": [],
   "source": [
    "# Anwendung der Funktionen auf Vektor\n",
    "x = np.arange(0, np.pi, 0.1)\n",
    "vectorized_f = np.vectorize(f, otypes=[np.float])\n",
    "f_values = vectorized_f(x)\n",
    "vectorized_g = np.vectorize(g, otypes=[np.float])\n",
    "g_values = vectorized_g(x)"
   ]
  },
  {
   "cell_type": "code",
   "execution_count": null,
   "metadata": {},
   "outputs": [],
   "source": [
    "# 2D-Plot mit zwei Datensätzen\n",
    "plt.figure()    # Initialisierung einer Visualisierung\n",
    "plt.plot(x, f_values, label='f(x)')\n",
    "plt.plot(x, g_values, label='g(x)')\n",
    "plt.xlabel('x')\n",
    "plt.ylabel('y')\n",
    "plt.title(\"2D-Plot mit mehreren Graphen\")\n",
    "plt.legend()    # Einfügen von Legende\n",
    "plt.show()"
   ]
  },
  {
   "cell_type": "markdown",
   "metadata": {},
   "source": [
    "### D.3 Bar-Plot"
   ]
  },
  {
   "cell_type": "code",
   "execution_count": null,
   "metadata": {},
   "outputs": [],
   "source": [
    "x = [\"A\", \"B\", \"C\"]   # Labels\n",
    "y = [10, 5, 20]       # Werte"
   ]
  },
  {
   "cell_type": "code",
   "execution_count": null,
   "metadata": {},
   "outputs": [],
   "source": [
    "plt.figure()\n",
    "plt.bar(x, y, color=[\"#ed6a5a\", \"#f4f1bb\", \"#9bc1bc\"])    \n",
    "plt.title('Bar plot')\n",
    "plt.xlabel('X axis label')\n",
    "plt.ylabel('Y axis label')\n",
    "plt.show()"
   ]
  },
  {
   "cell_type": "markdown",
   "metadata": {},
   "source": [
    "___Tipp:___ _Schöne Farbskalas findet man zB [hier](https://coolors.co/palettes/popular)._ "
   ]
  },
  {
   "cell_type": "markdown",
   "metadata": {},
   "source": [
    "### D.4 Box-Plot"
   ]
  },
  {
   "cell_type": "code",
   "execution_count": null,
   "metadata": {},
   "outputs": [],
   "source": [
    "data = np.random.normal(size=50)    # Randomisierte Daten\n",
    "\n",
    "plt.boxplot(data)\n",
    "plt.title('Boxplot')\n",
    "plt.xlabel('Daten')\n",
    "plt.ylabel('Werte')\n",
    "plt.show()"
   ]
  },
  {
   "cell_type": "markdown",
   "metadata": {},
   "source": [
    "### D.5 Subplots"
   ]
  },
  {
   "cell_type": "code",
   "execution_count": null,
   "metadata": {},
   "outputs": [],
   "source": [
    "fig, (ax1, ax2) = plt.subplots(1, 2, figsize=(10, 5))   # Initialisierung eines Plots mit 2 Subplots\n",
    "\n",
    "# Einfügen des Boxplots\n",
    "x = [\"A\", \"B\", \"C\"]   # Labels\n",
    "y = [10, 5, 20]       # Werte\n",
    "ax1.grid(True)\n",
    "ax1.bar(x, y, color=[\"#ed6a5a\", \"#f4f1bb\", \"#9bc1bc\"], zorder=10)    \n",
    "ax1.set_title('Bar plot')\n",
    "ax1.set_xlabel('X axis label')\n",
    "ax1.set_ylabel('Y axis label')\n",
    "x\n",
    "\n",
    "# Einfügen des Barplots\n",
    "data = np.random.normal(size=50)    # Randomisierte Daten\n",
    "ax2.boxplot(data)\n",
    "ax2.set_title('Boxplot')\n",
    "ax2.set_xlabel('Daten')\n",
    "ax2.set_ylabel('Werte')\n",
    "\n",
    "plt.show()"
   ]
  },
  {
   "cell_type": "code",
   "execution_count": null,
   "metadata": {},
   "outputs": [],
   "source": [
    "# saving figures\n",
    "fig.savefig(\"subplot.pdf\")"
   ]
  },
  {
   "cell_type": "markdown",
   "metadata": {},
   "source": [
    "### D.6 3D-Plots"
   ]
  },
  {
   "cell_type": "code",
   "execution_count": null,
   "metadata": {},
   "outputs": [],
   "source": [
    "# 3D-Linie\n",
    "t = np.linspace(0, 10, 100)\n",
    "x = np.sin(t)\n",
    "y = np.cos(t)\n",
    "\n",
    "\n",
    "fig = plt.figure()\n",
    "ax = fig.add_subplot(111, projection='3d')\n",
    "ax.plot(x, y, t)\n",
    "ax.set_xlabel('X')\n",
    "ax.set_ylabel('Y')\n",
    "ax.set_zlabel('T')\n",
    "ax.set_title('3D line plot')"
   ]
  },
  {
   "cell_type": "code",
   "execution_count": null,
   "metadata": {},
   "outputs": [],
   "source": [
    "x = np.linspace(-5, 5, 100)\n",
    "y = np.linspace(-5, 5, 100)\n",
    "X, Y = np.meshgrid(x, y)\n",
    "Z = np.sin(np.sqrt(X**2 + Y**2))\n",
    "\n",
    "fig = plt.figure()\n",
    "ax = fig.add_subplot(111, projection='3d')\n",
    "ax.plot_surface(X, Y, Z)\n",
    "\n",
    "ax.set_xlabel('X')\n",
    "ax.set_ylabel('Y')\n",
    "ax.set_zlabel('Z')\n",
    "ax.set_title('3D plot of sin(sqrt(x^2 + y^2))')"
   ]
  },
  {
   "cell_type": "markdown",
   "metadata": {},
   "source": [
    "## (E) Boolean-Abfragen"
   ]
  },
  {
   "cell_type": "code",
   "execution_count": null,
   "metadata": {},
   "outputs": [],
   "source": [
    "var = 2\n",
    "\n",
    "if ((var >= 1) & (var<=3)):\n",
    "    print('var liegt zwischen 1 und 3')\n",
    "elif (var>3):\n",
    "    print('var ist größer als 3')\n",
    "else:\n",
    "    print('var ist kleiner als 1')"
   ]
  },
  {
   "cell_type": "markdown",
   "metadata": {},
   "source": [
    "## (F) Schleifen\n",
    "Typische Schleifen: "
   ]
  },
  {
   "cell_type": "code",
   "execution_count": null,
   "metadata": {},
   "outputs": [],
   "source": [
    "N = 20\n",
    "\n",
    "for ij in range(0, N):\n",
    "    print(ij)"
   ]
  },
  {
   "cell_type": "code",
   "execution_count": null,
   "metadata": {},
   "outputs": [],
   "source": [
    "kl = 0\n",
    "\n",
    "while kl < N:   \n",
    "    print(kl)\n",
    "    kl = kl + 2 "
   ]
  }
 ],
 "metadata": {
  "kernelspec": {
   "display_name": "Python 3",
   "language": "python",
   "name": "python3"
  },
  "language_info": {
   "codemirror_mode": {
    "name": "ipython",
    "version": 3
   },
   "file_extension": ".py",
   "mimetype": "text/x-python",
   "name": "python",
   "nbconvert_exporter": "python",
   "pygments_lexer": "ipython3",
   "version": "3.8.5"
  }
 },
 "nbformat": 4,
 "nbformat_minor": 4
}
